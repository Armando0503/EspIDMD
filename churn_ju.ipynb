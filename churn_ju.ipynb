{
  "nbformat": 4,
  "nbformat_minor": 0,
  "metadata": {
    "colab": {
      "provenance": [],
      "authorship_tag": "ABX9TyMJBLHwxx4vM5ZvVZdagXv6",
      "include_colab_link": true
    },
    "kernelspec": {
      "name": "python3",
      "display_name": "Python 3"
    },
    "language_info": {
      "name": "python"
    }
  },
  "cells": [
    {
      "cell_type": "markdown",
      "metadata": {
        "id": "view-in-github",
        "colab_type": "text"
      },
      "source": [
        "<a href=\"https://colab.research.google.com/github/EitMD/EspIDMD/blob/main/churn_ju.ipynb\" target=\"_parent\"><img src=\"https://colab.research.google.com/assets/colab-badge.svg\" alt=\"Open In Colab\"/></a>"
      ]
    },
    {
      "cell_type": "markdown",
      "source": [
        "#ACME INC.\n",
        "### *MARKETING*\n",
        "\n",
        "\n",
        "Mejorando su programa que predice el riesgo de abandono del servicio por parte de sus clientes."
      ],
      "metadata": {
        "id": "TJGJZU3fXi_U"
      }
    },
    {
      "cell_type": "markdown",
      "source": [
        "###Lectura del Dataset"
      ],
      "metadata": {
        "id": "ubwK3H08y4De"
      }
    },
    {
      "cell_type": "markdown",
      "source": [
        "Importamos las librerías a utilizar.  \n",
        "En este caso Pandas\n"
      ],
      "metadata": {
        "id": "RCfMOaqqXo-N"
      }
    },
    {
      "cell_type": "code",
      "source": [
        "#import pandas as pd"
      ],
      "metadata": {
        "id": "zVAsRAvUx1X2"
      },
      "execution_count": 4,
      "outputs": []
    },
    {
      "cell_type": "markdown",
      "source": [
        "Cargamos el dataset en un dataframe."
      ],
      "metadata": {
        "id": "00r8WjdQXoxQ"
      }
    },
    {
      "cell_type": "code",
      "source": [
        "#df = pd.read_csv('churn.csv')"
      ],
      "metadata": {
        "id": "NxZrVWbGx-JR"
      },
      "execution_count": 5,
      "outputs": []
    },
    {
      "cell_type": "markdown",
      "source": [
        "Obtenemos la dimensión del dataset"
      ],
      "metadata": {
        "id": "dr2dFEJQwQqt"
      }
    },
    {
      "cell_type": "code",
      "source": [
        "#print('The shape of the dataset is:', df.shape)"
      ],
      "metadata": {
        "id": "Mm4kBI5yyhUe"
      },
      "execution_count": 6,
      "outputs": []
    },
    {
      "cell_type": "markdown",
      "source": [
        "Limpieza de datos"
      ],
      "metadata": {
        "id": "LT-RYl9eXpBB"
      }
    },
    {
      "cell_type": "markdown",
      "source": [
        "Selección de variables"
      ],
      "metadata": {
        "id": "3P5weQF_XpDx"
      }
    },
    {
      "cell_type": "markdown",
      "source": [
        "Separación de base de datos"
      ],
      "metadata": {
        "id": "-FY8o4_YyyMU"
      }
    },
    {
      "cell_type": "markdown",
      "source": [
        "Implementación de algoritmo(s)"
      ],
      "metadata": {
        "id": "kLKw5MYmXpGm"
      }
    },
    {
      "cell_type": "markdown",
      "source": [
        "Entrenar modelo\n"
      ],
      "metadata": {
        "id": "T3aA5aHRXpKH"
      }
    },
    {
      "cell_type": "markdown",
      "source": [
        "validar modelo"
      ],
      "metadata": {
        "id": "Pa_VMxnCXpY1"
      }
    },
    {
      "cell_type": "markdown",
      "source": [
        "Gráficar (validación)"
      ],
      "metadata": {
        "id": "ar2Nmp7qXpbV"
      }
    },
    {
      "cell_type": "markdown",
      "source": [
        "Selección de dataframe para predicción"
      ],
      "metadata": {
        "id": "kG7l7eM2fk5M"
      }
    },
    {
      "cell_type": "markdown",
      "source": [
        "Ejecutar predicciones"
      ],
      "metadata": {
        "id": "Xre5U75tXpey"
      }
    }
  ]
}