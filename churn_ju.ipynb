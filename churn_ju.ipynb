{
  "nbformat": 4,
  "nbformat_minor": 0,
  "metadata": {
    "colab": {
      "provenance": [],
      "collapsed_sections": [],
      "authorship_tag": "ABX9TyNnE8Om7qXNlu4RP2TyAftO",
      "include_colab_link": true
    },
    "kernelspec": {
      "name": "python3",
      "display_name": "Python 3"
    },
    "language_info": {
      "name": "python"
    }
  },
  "cells": [
    {
      "cell_type": "markdown",
      "metadata": {
        "id": "view-in-github",
        "colab_type": "text"
      },
      "source": [
        "<a href=\"https://colab.research.google.com/github/EitMD/EspIDMD/blob/main/churn_ju.ipynb\" target=\"_parent\"><img src=\"https://colab.research.google.com/assets/colab-badge.svg\" alt=\"Open In Colab\"/></a>"
      ]
    },
    {
      "cell_type": "markdown",
      "source": [
        "# **Datalet Churn para el grupo de Actuarios de ACME Inc.**\n",
        "\n",
        "## **Problema:**\n",
        "\n",
        "Trabajaremos en conjunto al departamento de marketing de la compañia de ecommerce de **_ACME_** en el departamento de ventas. **_ACME_** tiene un software de pronóstico de ventas montado en **FORTRAN 77**, el cual tiene un timeframe de 30 días como máximo para el pronóstico. \n",
        "\n",
        "Aunado a ello, tiene carencias en sus procesos de actualización de data, pues en uno de ellos tarda 30 días en poder recibir los cambios en alguna variable, mientras que su tiempo de ejecución es de 7 días.\n",
        "\n",
        "La certeza que se tiene en dicho software es del 85%.\n",
        "\n",
        "Se realizará un nuevo software de pronóstico con su histórico para poder no solo incrementar su certeza a más de un 88%, sino incrementar el timeframe que se maneja, así como reducir el tiempo de ejecución de procesos."
      ],
      "metadata": {
        "id": "TJGJZU3fXi_U"
      }
    },
    {
      "cell_type": "markdown",
      "source": [
        "### **Pasos a seguir:**"
      ],
      "metadata": {
        "id": "yK35RACP0Tyf"
      }
    },
    {
      "cell_type": "markdown",
      "source": [
        "Importamos las librerías a utilizar.  \n",
        "En este caso:\n",
        "1. Pandas\n",
        "2. Numpy\n",
        "3. matplotlib\n",
        "4. seaborn"
      ],
      "metadata": {
        "id": "RCfMOaqqXo-N"
      }
    },
    {
      "cell_type": "code",
      "source": [
        "import pandas as pd\n",
        "import numpy as np\n",
        "import seaborn as sns\n",
        "import matplotlib.pyplot as plt\n",
        "sns.set()"
      ],
      "metadata": {
        "id": "zVAsRAvUx1X2"
      },
      "execution_count": 33,
      "outputs": []
    },
    {
      "cell_type": "markdown",
      "source": [
        "###Lectura del Dataset"
      ],
      "metadata": {
        "id": "ubwK3H08y4De"
      }
    },
    {
      "cell_type": "markdown",
      "source": [
        "Importamos nuestro archivo CSV (dataset) como Dataframe y le hacemos una copia para poder trabajar con ella sin afectar el archivo original."
      ],
      "metadata": {
        "id": "00r8WjdQXoxQ"
      }
    },
    {
      "cell_type": "code",
      "source": [
        "df = pd.read_csv('churn.csv')\n",
        "df_churn=df.copy()"
      ],
      "metadata": {
        "id": "NxZrVWbGx-JR"
      },
      "execution_count": 34,
      "outputs": []
    },
    {
      "cell_type": "markdown",
      "source": [
        "Obtenemos la dimensión del dataset"
      ],
      "metadata": {
        "id": "dr2dFEJQwQqt"
      }
    },
    {
      "cell_type": "code",
      "source": [
        "print('The shape of the dataset is:', df_churn.shape)"
      ],
      "metadata": {
        "id": "Mm4kBI5yyhUe",
        "colab": {
          "base_uri": "https://localhost:8080/"
        },
        "outputId": "30731f97-4647-4e67-ac5a-29e12966adf2"
      },
      "execution_count": 35,
      "outputs": [
        {
          "output_type": "stream",
          "name": "stdout",
          "text": [
            "The shape of the dataset is: (5000, 21)\n"
          ]
        }
      ]
    },
    {
      "cell_type": "code",
      "source": [
        "df_churn.info()"
      ],
      "metadata": {
        "colab": {
          "base_uri": "https://localhost:8080/"
        },
        "id": "Fi-aZp61vev4",
        "outputId": "9a97c96a-c535-4315-f31b-c3d0b2710fee"
      },
      "execution_count": 36,
      "outputs": [
        {
          "output_type": "stream",
          "name": "stdout",
          "text": [
            "<class 'pandas.core.frame.DataFrame'>\n",
            "RangeIndex: 5000 entries, 0 to 4999\n",
            "Data columns (total 21 columns):\n",
            " #   Column          Non-Null Count  Dtype  \n",
            "---  ------          --------------  -----  \n",
            " 0   State           5000 non-null   object \n",
            " 1   Account Length  5000 non-null   int64  \n",
            " 2   Area Code       5000 non-null   int64  \n",
            " 3   Phone           5000 non-null   object \n",
            " 4   Int'l Plan      5000 non-null   object \n",
            " 5   VMail Plan      5000 non-null   object \n",
            " 6   VMail Message   5000 non-null   int64  \n",
            " 7   Day Mins        5000 non-null   float64\n",
            " 8   Day Calls       5000 non-null   int64  \n",
            " 9   Day Charge      5000 non-null   float64\n",
            " 10  Eve Mins        5000 non-null   float64\n",
            " 11  Eve Calls       5000 non-null   int64  \n",
            " 12  Eve Charge      5000 non-null   float64\n",
            " 13  Night Mins      5000 non-null   float64\n",
            " 14  Night Calls     5000 non-null   int64  \n",
            " 15  Night Charge    5000 non-null   float64\n",
            " 16  Intl Mins       5000 non-null   float64\n",
            " 17  Intl Calls      5000 non-null   int64  \n",
            " 18  Intl Charge     5000 non-null   float64\n",
            " 19  CustServ Calls  5000 non-null   int64  \n",
            " 20  Churn?          5000 non-null   object \n",
            "dtypes: float64(8), int64(8), object(5)\n",
            "memory usage: 820.4+ KB\n"
          ]
        }
      ]
    },
    {
      "cell_type": "code",
      "source": [
        "#df_churn.head()\n",
        "df_churn.describe()"
      ],
      "metadata": {
        "colab": {
          "base_uri": "https://localhost:8080/",
          "height": 382
        },
        "id": "H3UZqWD7wzpi",
        "outputId": "efe70771-001a-4ddf-e0ba-902019198228"
      },
      "execution_count": 37,
      "outputs": [
        {
          "output_type": "execute_result",
          "data": {
            "text/plain": [
              "       Account Length    Area Code  VMail Message     Day Mins   Day Calls  \\\n",
              "count     5000.000000  5000.000000    5000.000000  5000.000000  5000.00000   \n",
              "mean       101.675800   773.791400     226.680000     5.518757     3.50460   \n",
              "std         57.596762    63.470888     273.998527     3.433485     1.68812   \n",
              "min          1.000000   657.000000       0.000000     0.000215     0.00000   \n",
              "25%         52.000000   736.000000       0.000000     2.682384     2.00000   \n",
              "50%        102.000000   778.000000       0.000000     5.336245     3.00000   \n",
              "75%        151.000000   806.000000     400.000000     7.936151     5.00000   \n",
              "max        200.000000   878.000000    1300.000000    16.897529    10.00000   \n",
              "\n",
              "        Day Charge     Eve Mins    Eve Calls   Eve Charge   Night Mins  \\\n",
              "count  5000.000000  5000.000000  5000.000000  5000.000000  5000.000000   \n",
              "mean      5.018902     5.026199     3.140400     5.017557     4.000917   \n",
              "std       2.195759     2.135487     2.525621     2.127857     1.631001   \n",
              "min       0.004777     0.004659     0.000000     0.013573     0.008468   \n",
              "25%       3.470151     3.588466     1.000000     3.529613     2.921998   \n",
              "50%       4.988291     5.145656     3.000000     5.006860     3.962089   \n",
              "75%       6.559750     6.552962     5.000000     6.491725     5.100128   \n",
              "max      12.731936    13.622097    14.000000    12.352871    10.183378   \n",
              "\n",
              "       Night Calls  Night Charge    Intl Mins   Intl Calls  Intl Charge  \\\n",
              "count  5000.000000   5000.000000  5000.000000  5000.000000  5000.000000   \n",
              "mean    224.790000      5.023490     5.025876     5.475400     4.328242   \n",
              "std      97.302875      1.748900     1.019302     1.877045     2.440311   \n",
              "min       0.000000      0.054863     1.648514     0.000000     0.000769   \n",
              "25%     150.000000      3.873157     4.349726     4.000000     2.468225   \n",
              "50%     200.000000      5.169154     5.034905     5.000000     4.214058   \n",
              "75%     300.000000      6.272015     5.716386     7.000000     5.960654   \n",
              "max     550.000000     10.407778     8.405644    12.000000    14.212261   \n",
              "\n",
              "       CustServ Calls  \n",
              "count     5000.000000  \n",
              "mean         5.525800  \n",
              "std          2.041217  \n",
              "min          0.000000  \n",
              "25%          4.000000  \n",
              "50%          6.000000  \n",
              "75%          7.000000  \n",
              "max         13.000000  "
            ],
            "text/html": [
              "\n",
              "  <div id=\"df-7f3621a8-7213-4e22-a541-560480f0ccc8\">\n",
              "    <div class=\"colab-df-container\">\n",
              "      <div>\n",
              "<style scoped>\n",
              "    .dataframe tbody tr th:only-of-type {\n",
              "        vertical-align: middle;\n",
              "    }\n",
              "\n",
              "    .dataframe tbody tr th {\n",
              "        vertical-align: top;\n",
              "    }\n",
              "\n",
              "    .dataframe thead th {\n",
              "        text-align: right;\n",
              "    }\n",
              "</style>\n",
              "<table border=\"1\" class=\"dataframe\">\n",
              "  <thead>\n",
              "    <tr style=\"text-align: right;\">\n",
              "      <th></th>\n",
              "      <th>Account Length</th>\n",
              "      <th>Area Code</th>\n",
              "      <th>VMail Message</th>\n",
              "      <th>Day Mins</th>\n",
              "      <th>Day Calls</th>\n",
              "      <th>Day Charge</th>\n",
              "      <th>Eve Mins</th>\n",
              "      <th>Eve Calls</th>\n",
              "      <th>Eve Charge</th>\n",
              "      <th>Night Mins</th>\n",
              "      <th>Night Calls</th>\n",
              "      <th>Night Charge</th>\n",
              "      <th>Intl Mins</th>\n",
              "      <th>Intl Calls</th>\n",
              "      <th>Intl Charge</th>\n",
              "      <th>CustServ Calls</th>\n",
              "    </tr>\n",
              "  </thead>\n",
              "  <tbody>\n",
              "    <tr>\n",
              "      <th>count</th>\n",
              "      <td>5000.000000</td>\n",
              "      <td>5000.000000</td>\n",
              "      <td>5000.000000</td>\n",
              "      <td>5000.000000</td>\n",
              "      <td>5000.00000</td>\n",
              "      <td>5000.000000</td>\n",
              "      <td>5000.000000</td>\n",
              "      <td>5000.000000</td>\n",
              "      <td>5000.000000</td>\n",
              "      <td>5000.000000</td>\n",
              "      <td>5000.000000</td>\n",
              "      <td>5000.000000</td>\n",
              "      <td>5000.000000</td>\n",
              "      <td>5000.000000</td>\n",
              "      <td>5000.000000</td>\n",
              "      <td>5000.000000</td>\n",
              "    </tr>\n",
              "    <tr>\n",
              "      <th>mean</th>\n",
              "      <td>101.675800</td>\n",
              "      <td>773.791400</td>\n",
              "      <td>226.680000</td>\n",
              "      <td>5.518757</td>\n",
              "      <td>3.50460</td>\n",
              "      <td>5.018902</td>\n",
              "      <td>5.026199</td>\n",
              "      <td>3.140400</td>\n",
              "      <td>5.017557</td>\n",
              "      <td>4.000917</td>\n",
              "      <td>224.790000</td>\n",
              "      <td>5.023490</td>\n",
              "      <td>5.025876</td>\n",
              "      <td>5.475400</td>\n",
              "      <td>4.328242</td>\n",
              "      <td>5.525800</td>\n",
              "    </tr>\n",
              "    <tr>\n",
              "      <th>std</th>\n",
              "      <td>57.596762</td>\n",
              "      <td>63.470888</td>\n",
              "      <td>273.998527</td>\n",
              "      <td>3.433485</td>\n",
              "      <td>1.68812</td>\n",
              "      <td>2.195759</td>\n",
              "      <td>2.135487</td>\n",
              "      <td>2.525621</td>\n",
              "      <td>2.127857</td>\n",
              "      <td>1.631001</td>\n",
              "      <td>97.302875</td>\n",
              "      <td>1.748900</td>\n",
              "      <td>1.019302</td>\n",
              "      <td>1.877045</td>\n",
              "      <td>2.440311</td>\n",
              "      <td>2.041217</td>\n",
              "    </tr>\n",
              "    <tr>\n",
              "      <th>min</th>\n",
              "      <td>1.000000</td>\n",
              "      <td>657.000000</td>\n",
              "      <td>0.000000</td>\n",
              "      <td>0.000215</td>\n",
              "      <td>0.00000</td>\n",
              "      <td>0.004777</td>\n",
              "      <td>0.004659</td>\n",
              "      <td>0.000000</td>\n",
              "      <td>0.013573</td>\n",
              "      <td>0.008468</td>\n",
              "      <td>0.000000</td>\n",
              "      <td>0.054863</td>\n",
              "      <td>1.648514</td>\n",
              "      <td>0.000000</td>\n",
              "      <td>0.000769</td>\n",
              "      <td>0.000000</td>\n",
              "    </tr>\n",
              "    <tr>\n",
              "      <th>25%</th>\n",
              "      <td>52.000000</td>\n",
              "      <td>736.000000</td>\n",
              "      <td>0.000000</td>\n",
              "      <td>2.682384</td>\n",
              "      <td>2.00000</td>\n",
              "      <td>3.470151</td>\n",
              "      <td>3.588466</td>\n",
              "      <td>1.000000</td>\n",
              "      <td>3.529613</td>\n",
              "      <td>2.921998</td>\n",
              "      <td>150.000000</td>\n",
              "      <td>3.873157</td>\n",
              "      <td>4.349726</td>\n",
              "      <td>4.000000</td>\n",
              "      <td>2.468225</td>\n",
              "      <td>4.000000</td>\n",
              "    </tr>\n",
              "    <tr>\n",
              "      <th>50%</th>\n",
              "      <td>102.000000</td>\n",
              "      <td>778.000000</td>\n",
              "      <td>0.000000</td>\n",
              "      <td>5.336245</td>\n",
              "      <td>3.00000</td>\n",
              "      <td>4.988291</td>\n",
              "      <td>5.145656</td>\n",
              "      <td>3.000000</td>\n",
              "      <td>5.006860</td>\n",
              "      <td>3.962089</td>\n",
              "      <td>200.000000</td>\n",
              "      <td>5.169154</td>\n",
              "      <td>5.034905</td>\n",
              "      <td>5.000000</td>\n",
              "      <td>4.214058</td>\n",
              "      <td>6.000000</td>\n",
              "    </tr>\n",
              "    <tr>\n",
              "      <th>75%</th>\n",
              "      <td>151.000000</td>\n",
              "      <td>806.000000</td>\n",
              "      <td>400.000000</td>\n",
              "      <td>7.936151</td>\n",
              "      <td>5.00000</td>\n",
              "      <td>6.559750</td>\n",
              "      <td>6.552962</td>\n",
              "      <td>5.000000</td>\n",
              "      <td>6.491725</td>\n",
              "      <td>5.100128</td>\n",
              "      <td>300.000000</td>\n",
              "      <td>6.272015</td>\n",
              "      <td>5.716386</td>\n",
              "      <td>7.000000</td>\n",
              "      <td>5.960654</td>\n",
              "      <td>7.000000</td>\n",
              "    </tr>\n",
              "    <tr>\n",
              "      <th>max</th>\n",
              "      <td>200.000000</td>\n",
              "      <td>878.000000</td>\n",
              "      <td>1300.000000</td>\n",
              "      <td>16.897529</td>\n",
              "      <td>10.00000</td>\n",
              "      <td>12.731936</td>\n",
              "      <td>13.622097</td>\n",
              "      <td>14.000000</td>\n",
              "      <td>12.352871</td>\n",
              "      <td>10.183378</td>\n",
              "      <td>550.000000</td>\n",
              "      <td>10.407778</td>\n",
              "      <td>8.405644</td>\n",
              "      <td>12.000000</td>\n",
              "      <td>14.212261</td>\n",
              "      <td>13.000000</td>\n",
              "    </tr>\n",
              "  </tbody>\n",
              "</table>\n",
              "</div>\n",
              "      <button class=\"colab-df-convert\" onclick=\"convertToInteractive('df-7f3621a8-7213-4e22-a541-560480f0ccc8')\"\n",
              "              title=\"Convert this dataframe to an interactive table.\"\n",
              "              style=\"display:none;\">\n",
              "        \n",
              "  <svg xmlns=\"http://www.w3.org/2000/svg\" height=\"24px\"viewBox=\"0 0 24 24\"\n",
              "       width=\"24px\">\n",
              "    <path d=\"M0 0h24v24H0V0z\" fill=\"none\"/>\n",
              "    <path d=\"M18.56 5.44l.94 2.06.94-2.06 2.06-.94-2.06-.94-.94-2.06-.94 2.06-2.06.94zm-11 1L8.5 8.5l.94-2.06 2.06-.94-2.06-.94L8.5 2.5l-.94 2.06-2.06.94zm10 10l.94 2.06.94-2.06 2.06-.94-2.06-.94-.94-2.06-.94 2.06-2.06.94z\"/><path d=\"M17.41 7.96l-1.37-1.37c-.4-.4-.92-.59-1.43-.59-.52 0-1.04.2-1.43.59L10.3 9.45l-7.72 7.72c-.78.78-.78 2.05 0 2.83L4 21.41c.39.39.9.59 1.41.59.51 0 1.02-.2 1.41-.59l7.78-7.78 2.81-2.81c.8-.78.8-2.07 0-2.86zM5.41 20L4 18.59l7.72-7.72 1.47 1.35L5.41 20z\"/>\n",
              "  </svg>\n",
              "      </button>\n",
              "      \n",
              "  <style>\n",
              "    .colab-df-container {\n",
              "      display:flex;\n",
              "      flex-wrap:wrap;\n",
              "      gap: 12px;\n",
              "    }\n",
              "\n",
              "    .colab-df-convert {\n",
              "      background-color: #E8F0FE;\n",
              "      border: none;\n",
              "      border-radius: 50%;\n",
              "      cursor: pointer;\n",
              "      display: none;\n",
              "      fill: #1967D2;\n",
              "      height: 32px;\n",
              "      padding: 0 0 0 0;\n",
              "      width: 32px;\n",
              "    }\n",
              "\n",
              "    .colab-df-convert:hover {\n",
              "      background-color: #E2EBFA;\n",
              "      box-shadow: 0px 1px 2px rgba(60, 64, 67, 0.3), 0px 1px 3px 1px rgba(60, 64, 67, 0.15);\n",
              "      fill: #174EA6;\n",
              "    }\n",
              "\n",
              "    [theme=dark] .colab-df-convert {\n",
              "      background-color: #3B4455;\n",
              "      fill: #D2E3FC;\n",
              "    }\n",
              "\n",
              "    [theme=dark] .colab-df-convert:hover {\n",
              "      background-color: #434B5C;\n",
              "      box-shadow: 0px 1px 3px 1px rgba(0, 0, 0, 0.15);\n",
              "      filter: drop-shadow(0px 1px 2px rgba(0, 0, 0, 0.3));\n",
              "      fill: #FFFFFF;\n",
              "    }\n",
              "  </style>\n",
              "\n",
              "      <script>\n",
              "        const buttonEl =\n",
              "          document.querySelector('#df-7f3621a8-7213-4e22-a541-560480f0ccc8 button.colab-df-convert');\n",
              "        buttonEl.style.display =\n",
              "          google.colab.kernel.accessAllowed ? 'block' : 'none';\n",
              "\n",
              "        async function convertToInteractive(key) {\n",
              "          const element = document.querySelector('#df-7f3621a8-7213-4e22-a541-560480f0ccc8');\n",
              "          const dataTable =\n",
              "            await google.colab.kernel.invokeFunction('convertToInteractive',\n",
              "                                                     [key], {});\n",
              "          if (!dataTable) return;\n",
              "\n",
              "          const docLinkHtml = 'Like what you see? Visit the ' +\n",
              "            '<a target=\"_blank\" href=https://colab.research.google.com/notebooks/data_table.ipynb>data table notebook</a>'\n",
              "            + ' to learn more about interactive tables.';\n",
              "          element.innerHTML = '';\n",
              "          dataTable['output_type'] = 'display_data';\n",
              "          await google.colab.output.renderOutput(dataTable, element);\n",
              "          const docLink = document.createElement('div');\n",
              "          docLink.innerHTML = docLinkHtml;\n",
              "          element.appendChild(docLink);\n",
              "        }\n",
              "      </script>\n",
              "    </div>\n",
              "  </div>\n",
              "  "
            ]
          },
          "metadata": {},
          "execution_count": 37
        }
      ]
    },
    {
      "cell_type": "markdown",
      "source": [
        "Limpieza de datos"
      ],
      "metadata": {
        "id": "LT-RYl9eXpBB"
      }
    },
    {
      "cell_type": "code",
      "source": [
        "df_churn.isna().sum()"
      ],
      "metadata": {
        "colab": {
          "base_uri": "https://localhost:8080/"
        },
        "id": "3PFMK_Esh2yx",
        "outputId": "f4b7b4cc-b51c-4266-9e5d-b3b0faff13a3"
      },
      "execution_count": 38,
      "outputs": [
        {
          "output_type": "execute_result",
          "data": {
            "text/plain": [
              "State             0\n",
              "Account Length    0\n",
              "Area Code         0\n",
              "Phone             0\n",
              "Int'l Plan        0\n",
              "VMail Plan        0\n",
              "VMail Message     0\n",
              "Day Mins          0\n",
              "Day Calls         0\n",
              "Day Charge        0\n",
              "Eve Mins          0\n",
              "Eve Calls         0\n",
              "Eve Charge        0\n",
              "Night Mins        0\n",
              "Night Calls       0\n",
              "Night Charge      0\n",
              "Intl Mins         0\n",
              "Intl Calls        0\n",
              "Intl Charge       0\n",
              "CustServ Calls    0\n",
              "Churn?            0\n",
              "dtype: int64"
            ]
          },
          "metadata": {},
          "execution_count": 38
        }
      ]
    },
    {
      "cell_type": "code",
      "source": [
        "df_churn.drop(columns=[\"State\",\"Phone\",\"Int'l Plan\",\"VMail Plan\",\"Area Code\"], inplace=True)"
      ],
      "metadata": {
        "id": "-KRK8YRJafeK"
      },
      "execution_count": 39,
      "outputs": []
    },
    {
      "cell_type": "markdown",
      "source": [
        "Selección de variables"
      ],
      "metadata": {
        "id": "3P5weQF_XpDx"
      }
    },
    {
      "cell_type": "code",
      "source": [
        "df_churn['Churn?'].value_counts()"
      ],
      "metadata": {
        "colab": {
          "base_uri": "https://localhost:8080/"
        },
        "id": "mF85iEZ3hi6y",
        "outputId": "d891e053-1977-49d9-97a9-e62b3b62c405"
      },
      "execution_count": 40,
      "outputs": [
        {
          "output_type": "execute_result",
          "data": {
            "text/plain": [
              "False.    2502\n",
              "True.     2498\n",
              "Name: Churn?, dtype: int64"
            ]
          },
          "metadata": {},
          "execution_count": 40
        }
      ]
    },
    {
      "cell_type": "code",
      "source": [
        "df_churn['Churn?'].value_counts(normalize=True)"
      ],
      "metadata": {
        "colab": {
          "base_uri": "https://localhost:8080/"
        },
        "id": "WVaVPZxNk5IE",
        "outputId": "b43faa12-f6fe-4535-8b5e-b23204c13b05"
      },
      "execution_count": 41,
      "outputs": [
        {
          "output_type": "execute_result",
          "data": {
            "text/plain": [
              "False.    0.5004\n",
              "True.     0.4996\n",
              "Name: Churn?, dtype: float64"
            ]
          },
          "metadata": {},
          "execution_count": 41
        }
      ]
    },
    {
      "cell_type": "code",
      "source": [
        "sns.countplot(data=df_churn,x='Churn?')"
      ],
      "metadata": {
        "colab": {
          "base_uri": "https://localhost:8080/",
          "height": 303
        },
        "id": "_NBJ2qQKhpaw",
        "outputId": "397ebc3d-1fae-4076-b8bd-2a72ca7b0a8b"
      },
      "execution_count": 42,
      "outputs": [
        {
          "output_type": "execute_result",
          "data": {
            "text/plain": [
              "<matplotlib.axes._subplots.AxesSubplot at 0x7f24c61a1650>"
            ]
          },
          "metadata": {},
          "execution_count": 42
        },
        {
          "output_type": "display_data",
          "data": {
            "text/plain": [
              "<Figure size 432x288 with 1 Axes>"
            ],
            "image/png": "[encoded data removed]"
          },
          "metadata": {}
        }
      ]
    },
    {
      "cell_type": "markdown",
      "source": [
        "#Separación de datos y Normalización"
      ],
      "metadata": {
        "id": "-FY8o4_YyyMU"
      }
    },
    {
      "cell_type": "code",
      "source": [
        "#def mean_norm(df_input):\n",
        "#    return df_input.apply(lambda x: (x-x.mean())/ x.std(), axis=0)\n",
        "\n",
        "def quantile_norm(df_input):\n",
        "    sorted_df = pd.DataFrame(np.sort(df_input.values,axis=0), index=df_input.index, columns=df_input.columns)\n",
        "    mean_df = sorted_df.mean(axis=1)\n",
        "    mean_df.index = np.arange(1, len(mean_df) + 1)\n",
        "    quantile_df =df_input.rank(method=\"min\").stack().astype(int).map(mean_df).unstack()\n",
        "    return(quantile_df)\n"
      ],
      "metadata": {
        "id": "eDk9oKjp98cA"
      },
      "execution_count": 43,
      "outputs": []
    },
    {
      "cell_type": "code",
      "source": [
        "df_churn = df_churn.groupby(df_churn['Churn?'])\n",
        "df1= df_churn.get_group(\"True.\")\n",
        "df2= df_churn.get_group(\"False.\")\n",
        "#df_churn.describe()"
      ],
      "metadata": {
        "id": "9wr2c14QRVmO"
      },
      "execution_count": 44,
      "outputs": []
    },
    {
      "cell_type": "code",
      "source": [
        "train=df1.sample(frac=0.80)\n",
        "train=train.append(df2.sample(frac=0.80))\n",
        "#train"
      ],
      "metadata": {
        "id": "FAClOmFdGT9U"
      },
      "execution_count": 45,
      "outputs": []
    },
    {
      "cell_type": "code",
      "source": [
        "test=df1.sample(frac=0.20)\n",
        "test=test.append(df2.sample(frac=0.20))\n",
        "#test"
      ],
      "metadata": {
        "id": "mF_kezIZNbAY"
      },
      "execution_count": 46,
      "outputs": []
    },
    {
      "cell_type": "code",
      "source": [
        "X_train = train.drop('Churn?', axis=1)\n",
        "y_train = train['Churn?']\n",
        "X_test = test.drop('Churn?', axis=1)\n",
        "y_test = test['Churn?']"
      ],
      "metadata": {
        "id": "RtG67tDkh2vs"
      },
      "execution_count": 47,
      "outputs": []
    },
    {
      "cell_type": "code",
      "source": [
        "#X_train = mean_norm(X_train)\n",
        "#X_test = mean_norm(X_test)\n",
        "\n",
        "\n",
        "X_train = quantile_norm(X_train)\n",
        "X_test = quantile_norm(X_test)"
      ],
      "metadata": {
        "id": "cnt6xNTB94Pa"
      },
      "execution_count": 48,
      "outputs": []
    },
    {
      "cell_type": "markdown",
      "source": [
        "#Implementación de Modelo  \n",
        "\n",
        "##*Regresion Logística*"
      ],
      "metadata": {
        "id": "kLKw5MYmXpGm"
      }
    },
    {
      "cell_type": "code",
      "source": [
        "from sklearn.linear_model import LogisticRegression"
      ],
      "metadata": {
        "id": "jz-nYrWWY9Jj"
      },
      "execution_count": 49,
      "outputs": []
    },
    {
      "cell_type": "code",
      "source": [
        "log_model = LogisticRegression()"
      ],
      "metadata": {
        "id": "5Tw0H8lxY9ES"
      },
      "execution_count": 50,
      "outputs": []
    },
    {
      "cell_type": "code",
      "source": [
        "log_model.fit(X_train,y_train)"
      ],
      "metadata": {
        "colab": {
          "base_uri": "https://localhost:8080/"
        },
        "id": "lLJCBitNY83r",
        "outputId": "6c3596e4-b89c-4484-9fb5-97324c902444"
      },
      "execution_count": 51,
      "outputs": [
        {
          "output_type": "execute_result",
          "data": {
            "text/plain": [
              "LogisticRegression()"
            ]
          },
          "metadata": {},
          "execution_count": 51
        }
      ]
    },
    {
      "cell_type": "code",
      "source": [
        "odds=log_model.coef_\n",
        "odds"
      ],
      "metadata": {
        "colab": {
          "base_uri": "https://localhost:8080/"
        },
        "id": "dPzybQgIeHBu",
        "outputId": "194bb3e2-2beb-4ed1-912e-a839a00bce81"
      },
      "execution_count": 52,
      "outputs": [
        {
          "output_type": "execute_result",
          "data": {
            "text/plain": [
              "array([[ 0.00185816, -0.00374168, -0.00750568,  0.00148971,  0.03000346,\n",
              "         0.04087154, -0.01015411,  0.00286727, -0.00479145, -0.07393583,\n",
              "         0.02878469, -0.00070832,  0.00060853, -0.00177352,  0.00310919]])"
            ]
          },
          "metadata": {},
          "execution_count": 52
        }
      ]
    },
    {
      "cell_type": "markdown",
      "source": [
        "##Validación"
      ],
      "metadata": {
        "id": "ZKh02Jgo-LyH"
      }
    },
    {
      "cell_type": "code",
      "source": [
        "from sklearn.metrics import accuracy_score,confusion_matrix,classification_report,plot_confusion_matrix\n",
        "from sklearn.metrics import f1_score"
      ],
      "metadata": {
        "id": "gDwPZNr5CUfg"
      },
      "execution_count": 53,
      "outputs": []
    },
    {
      "cell_type": "code",
      "source": [
        "y_pred = log_model.predict(X_test)"
      ],
      "metadata": {
        "id": "MMaqVHpECYBC"
      },
      "execution_count": 54,
      "outputs": []
    },
    {
      "cell_type": "code",
      "source": [
        "accuracy_score(y_test,y_pred)"
      ],
      "metadata": {
        "colab": {
          "base_uri": "https://localhost:8080/"
        },
        "id": "02vIX9cnCX-a",
        "outputId": "1fc346ad-11f5-4d67-b85f-41d6d76f3db7"
      },
      "execution_count": 55,
      "outputs": [
        {
          "output_type": "execute_result",
          "data": {
            "text/plain": [
              "0.865"
            ]
          },
          "metadata": {},
          "execution_count": 55
        }
      ]
    },
    {
      "cell_type": "code",
      "source": [
        "confusion_matrix(y_test,y_pred)"
      ],
      "metadata": {
        "colab": {
          "base_uri": "https://localhost:8080/"
        },
        "id": "b94fT3FsCX7q",
        "outputId": "ed392fc9-1335-47ca-951b-bb8db805d4db"
      },
      "execution_count": 56,
      "outputs": [
        {
          "output_type": "execute_result",
          "data": {
            "text/plain": [
              "array([[430,  70],\n",
              "       [ 65, 435]])"
            ]
          },
          "metadata": {},
          "execution_count": 56
        }
      ]
    },
    {
      "cell_type": "code",
      "source": [
        "plot_confusion_matrix(log_model,X_test,y_test)"
      ],
      "metadata": {
        "colab": {
          "base_uri": "https://localhost:8080/",
          "height": 359
        },
        "id": "bRApyoVODDij",
        "outputId": "0eb73897-c90d-4aa3-897f-b88f2aec58db"
      },
      "execution_count": 57,
      "outputs": [
        {
          "output_type": "stream",
          "name": "stderr",
          "text": [
            "/usr/local/lib/python3.7/dist-packages/sklearn/utils/deprecation.py:87: FutureWarning: Function plot_confusion_matrix is deprecated; Function `plot_confusion_matrix` is deprecated in 1.0 and will be removed in 1.2. Use one of the class methods: ConfusionMatrixDisplay.from_predictions or ConfusionMatrixDisplay.from_estimator.\n",
            "  warnings.warn(msg, category=FutureWarning)\n"
          ]
        },
        {
          "output_type": "execute_result",
          "data": {
            "text/plain": [
              "<sklearn.metrics._plot.confusion_matrix.ConfusionMatrixDisplay at 0x7f24c9f0ca50>"
            ]
          },
          "metadata": {},
          "execution_count": 57
        },
        {
          "output_type": "display_data",
          "data": {
            "text/plain": [
              "<Figure size 432x288 with 2 Axes>"
            ],
            "image/png": "[encoded data removed]"
          },
          "metadata": {}
        }
      ]
    },
    {
      "cell_type": "code",
      "source": [
        "# Scaled so highest value=1\n",
        "plot_confusion_matrix(log_model,X_test,y_test,normalize='true')"
      ],
      "metadata": {
        "colab": {
          "base_uri": "https://localhost:8080/",
          "height": 359
        },
        "id": "Tl4Ryu60DD6l",
        "outputId": "bcd9ba1a-5806-4df5-a0d7-fc2df92c1530"
      },
      "execution_count": 58,
      "outputs": [
        {
          "output_type": "stream",
          "name": "stderr",
          "text": [
            "/usr/local/lib/python3.7/dist-packages/sklearn/utils/deprecation.py:87: FutureWarning: Function plot_confusion_matrix is deprecated; Function `plot_confusion_matrix` is deprecated in 1.0 and will be removed in 1.2. Use one of the class methods: ConfusionMatrixDisplay.from_predictions or ConfusionMatrixDisplay.from_estimator.\n",
            "  warnings.warn(msg, category=FutureWarning)\n"
          ]
        },
        {
          "output_type": "execute_result",
          "data": {
            "text/plain": [
              "<sklearn.metrics._plot.confusion_matrix.ConfusionMatrixDisplay at 0x7f24c9f0f850>"
            ]
          },
          "metadata": {},
          "execution_count": 58
        },
        {
          "output_type": "display_data",
          "data": {
            "text/plain": [
              "<Figure size 432x288 with 2 Axes>"
            ],
            "image/png": "[encoded data removed]"
          },
          "metadata": {}
        }
      ]
    },
    {
      "cell_type": "code",
      "source": [
        "print(classification_report(y_test,y_pred))"
      ],
      "metadata": {
        "colab": {
          "base_uri": "https://localhost:8080/"
        },
        "id": "rsQ_5iKzDb52",
        "outputId": "aadac337-aba5-44cb-e4bb-d53265933b68"
      },
      "execution_count": 59,
      "outputs": [
        {
          "output_type": "stream",
          "name": "stdout",
          "text": [
            "              precision    recall  f1-score   support\n",
            "\n",
            "      False.       0.87      0.86      0.86       500\n",
            "       True.       0.86      0.87      0.87       500\n",
            "\n",
            "    accuracy                           0.86      1000\n",
            "   macro avg       0.87      0.86      0.86      1000\n",
            "weighted avg       0.87      0.86      0.86      1000\n",
            "\n"
          ]
        }
      ]
    },
    {
      "cell_type": "markdown",
      "source": [
        "##*ROC Curve & AUC Curve*"
      ],
      "metadata": {
        "id": "nCLFKDDZELrq"
      }
    },
    {
      "cell_type": "code",
      "source": [
        "from sklearn.metrics import precision_recall_curve,plot_precision_recall_curve,plot_roc_curve"
      ],
      "metadata": {
        "id": "h2nGarabDspN"
      },
      "execution_count": 60,
      "outputs": []
    },
    {
      "cell_type": "code",
      "source": [
        "plot_precision_recall_curve(log_model,X_test,y_test)"
      ],
      "metadata": {
        "colab": {
          "base_uri": "https://localhost:8080/",
          "height": 359
        },
        "id": "KRZIeUnHDsmd",
        "outputId": "43f8fc2a-b390-4231-bfd8-d4d5d8e8136b"
      },
      "execution_count": 61,
      "outputs": [
        {
          "output_type": "stream",
          "name": "stderr",
          "text": [
            "/usr/local/lib/python3.7/dist-packages/sklearn/utils/deprecation.py:87: FutureWarning: Function plot_precision_recall_curve is deprecated; Function `plot_precision_recall_curve` is deprecated in 1.0 and will be removed in 1.2. Use one of the class methods: PrecisionRecallDisplay.from_predictions or PrecisionRecallDisplay.from_estimator.\n",
            "  warnings.warn(msg, category=FutureWarning)\n"
          ]
        },
        {
          "output_type": "execute_result",
          "data": {
            "text/plain": [
              "<sklearn.metrics._plot.precision_recall_curve.PrecisionRecallDisplay at 0x7f24c6147650>"
            ]
          },
          "metadata": {},
          "execution_count": 61
        },
        {
          "output_type": "display_data",
          "data": {
            "text/plain": [
              "<Figure size 432x288 with 1 Axes>"
            ],
            "image/png": "[encoded data removed]"
          },
          "metadata": {}
        }
      ]
    },
    {
      "cell_type": "code",
      "source": [
        "plot_roc_curve(log_model,X_test,y_test)"
      ],
      "metadata": {
        "colab": {
          "base_uri": "https://localhost:8080/",
          "height": 369
        },
        "id": "0O0IJ9-iD26M",
        "outputId": "5f8c4644-d4cb-41df-b2fc-971f42eea41d"
      },
      "execution_count": 62,
      "outputs": [
        {
          "output_type": "stream",
          "name": "stderr",
          "text": [
            "/usr/local/lib/python3.7/dist-packages/sklearn/utils/deprecation.py:87: FutureWarning: Function plot_roc_curve is deprecated; Function :func:`plot_roc_curve` is deprecated in 1.0 and will be removed in 1.2. Use one of the class methods: :meth:`sklearn.metric.RocCurveDisplay.from_predictions` or :meth:`sklearn.metric.RocCurveDisplay.from_estimator`.\n",
            "  warnings.warn(msg, category=FutureWarning)\n"
          ]
        },
        {
          "output_type": "execute_result",
          "data": {
            "text/plain": [
              "<sklearn.metrics._plot.roc_curve.RocCurveDisplay at 0x7f24c9d6bed0>"
            ]
          },
          "metadata": {},
          "execution_count": 62
        },
        {
          "output_type": "display_data",
          "data": {
            "text/plain": [
              "<Figure size 432x288 with 1 Axes>"
            ],
            "image/png": "[encoded data removed]"
          },
          "metadata": {}
        }
      ]
    }
  ]
}