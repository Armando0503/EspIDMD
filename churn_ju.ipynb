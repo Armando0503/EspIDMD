{
  "nbformat": 4,
  "nbformat_minor": 0,
  "metadata": {
    "colab": {
      "provenance": [],
      "collapsed_sections": [],
      "authorship_tag": "ABX9TyPSfdOC+HEkU8sKiv5E2S2n",
      "include_colab_link": true
    },
    "kernelspec": {
      "name": "python3",
      "display_name": "Python 3"
    },
    "language_info": {
      "name": "python"
    }
  },
  "cells": [
    {
      "cell_type": "markdown",
      "metadata": {
        "id": "view-in-github",
        "colab_type": "text"
      },
      "source": [
        "<a href=\"https://colab.research.google.com/github/EitMD/EspIDMD/blob/main/churn_ju.ipynb\" target=\"_parent\"><img src=\"https://colab.research.google.com/assets/colab-badge.svg\" alt=\"Open In Colab\"/></a>"
      ]
    },
    {
      "cell_type": "markdown",
      "source": [
        "# **Datalet Churn para el grupo de Actuarios de ACME Inc.**\n",
        "\n",
        "## **Problema:**\n",
        "\n",
        "Trabajaremos en conjunto al departamento de marketing de la compañia de ecommerce de **_ACME_** en el departamento de ventas. **_ACME_** tiene un software de pronóstico de ventas montado en **FORTRAN 77**, el cual tiene un timeframe de 30 días como máximo para el pronóstico. \n",
        "\n",
        "Aunado a ello, tiene carencias en sus procesos de actualización de data, pues en uno de ellos tarda 30 días en poder recibir los cambios en alguna variable, mientras que su tiempo de ejecución es de 7 días.\n",
        "\n",
        "La certeza que se tiene en dicho software es del 85%.\n",
        "\n",
        "Se realizará un nuevo software de pronóstico con su histórico para poder no solo incrementar su certeza a más de un 88%, sino incrementar el timeframe que se maneja, así como reducir el tiempo de ejecución de procesos."
      ],
      "metadata": {
        "id": "TJGJZU3fXi_U"
      }
    },
    {
      "cell_type": "markdown",
      "source": [
        "### **Pasos a seguir:**"
      ],
      "metadata": {
        "id": "yK35RACP0Tyf"
      }
    },
    {
      "cell_type": "markdown",
      "source": [
        "Importamos las librerías a utilizar.  \n",
        "En este caso:\n",
        "1. Pandas\n",
        "2. Numpy\n",
        "3. matplotlib\n",
        "4. seaborn"
      ],
      "metadata": {
        "id": "RCfMOaqqXo-N"
      }
    },
    {
      "cell_type": "code",
      "source": [
        "import pandas as pd\n",
        "import numpy as np\n",
        "import seaborn as sns\n",
        "import matplotlib.pyplot as plt\n",
        "sns.set()"
      ],
      "metadata": {
        "id": "zVAsRAvUx1X2"
      },
      "execution_count": 1,
      "outputs": []
    },
    {
      "cell_type": "markdown",
      "source": [
        "###Lectura del Dataset"
      ],
      "metadata": {
        "id": "ubwK3H08y4De"
      }
    },
    {
      "cell_type": "markdown",
      "source": [
        "Importamos nuestro archivo CSV (dataset) como Dataframe y le hacemos una copia para poder trabajar con ella sin afectar el archivo original."
      ],
      "metadata": {
        "id": "00r8WjdQXoxQ"
      }
    },
    {
      "cell_type": "code",
      "source": [
        "df = pd.read_csv('churn.csv')\n",
        "df_churn=df.copy()"
      ],
      "metadata": {
        "id": "NxZrVWbGx-JR"
      },
      "execution_count": 2,
      "outputs": []
    },
    {
      "cell_type": "markdown",
      "source": [
        "Obtenemos la dimensión del dataset"
      ],
      "metadata": {
        "id": "dr2dFEJQwQqt"
      }
    },
    {
      "cell_type": "code",
      "source": [
        "print('The shape of the dataset is:', df_churn.shape)"
      ],
      "metadata": {
        "id": "Mm4kBI5yyhUe",
        "colab": {
          "base_uri": "https://localhost:8080/"
        },
        "outputId": "a321b17a-7193-4e92-c585-1aaaf7e2d2dd"
      },
      "execution_count": 3,
      "outputs": [
        {
          "output_type": "stream",
          "name": "stdout",
          "text": [
            "The shape of the dataset is: (5000, 21)\n"
          ]
        }
      ]
    },
    {
      "cell_type": "code",
      "source": [
        "df_churn.info()"
      ],
      "metadata": {
        "colab": {
          "base_uri": "https://localhost:8080/"
        },
        "id": "Fi-aZp61vev4",
        "outputId": "5f34ec17-1c19-49c0-9d71-c08fd02bff80"
      },
      "execution_count": 4,
      "outputs": [
        {
          "output_type": "stream",
          "name": "stdout",
          "text": [
            "<class 'pandas.core.frame.DataFrame'>\n",
            "RangeIndex: 5000 entries, 0 to 4999\n",
            "Data columns (total 21 columns):\n",
            " #   Column          Non-Null Count  Dtype  \n",
            "---  ------          --------------  -----  \n",
            " 0   State           5000 non-null   object \n",
            " 1   Account Length  5000 non-null   int64  \n",
            " 2   Area Code       5000 non-null   int64  \n",
            " 3   Phone           5000 non-null   object \n",
            " 4   Int'l Plan      5000 non-null   object \n",
            " 5   VMail Plan      5000 non-null   object \n",
            " 6   VMail Message   5000 non-null   int64  \n",
            " 7   Day Mins        5000 non-null   float64\n",
            " 8   Day Calls       5000 non-null   int64  \n",
            " 9   Day Charge      5000 non-null   float64\n",
            " 10  Eve Mins        5000 non-null   float64\n",
            " 11  Eve Calls       5000 non-null   int64  \n",
            " 12  Eve Charge      5000 non-null   float64\n",
            " 13  Night Mins      5000 non-null   float64\n",
            " 14  Night Calls     5000 non-null   int64  \n",
            " 15  Night Charge    5000 non-null   float64\n",
            " 16  Intl Mins       5000 non-null   float64\n",
            " 17  Intl Calls      5000 non-null   int64  \n",
            " 18  Intl Charge     5000 non-null   float64\n",
            " 19  CustServ Calls  5000 non-null   int64  \n",
            " 20  Churn?          5000 non-null   object \n",
            "dtypes: float64(8), int64(8), object(5)\n",
            "memory usage: 820.4+ KB\n"
          ]
        }
      ]
    },
    {
      "cell_type": "code",
      "source": [
        "#df_churn.head()\n",
        "df_churn.describe()"
      ],
      "metadata": {
        "colab": {
          "base_uri": "https://localhost:8080/",
          "height": 382
        },
        "id": "H3UZqWD7wzpi",
        "outputId": "e526c414-03e8-41af-c0ea-dd7bffe7b62a"
      },
      "execution_count": 5,
      "outputs": [
        {
          "output_type": "execute_result",
          "data": {
            "text/plain": [
              "       Account Length    Area Code  VMail Message     Day Mins   Day Calls  \\\n",
              "count     5000.000000  5000.000000    5000.000000  5000.000000  5000.00000   \n",
              "mean       101.675800   773.791400     226.680000     5.518757     3.50460   \n",
              "std         57.596762    63.470888     273.998527     3.433485     1.68812   \n",
              "min          1.000000   657.000000       0.000000     0.000215     0.00000   \n",
              "25%         52.000000   736.000000       0.000000     2.682384     2.00000   \n",
              "50%        102.000000   778.000000       0.000000     5.336245     3.00000   \n",
              "75%        151.000000   806.000000     400.000000     7.936151     5.00000   \n",
              "max        200.000000   878.000000    1300.000000    16.897529    10.00000   \n",
              "\n",
              "        Day Charge     Eve Mins    Eve Calls   Eve Charge   Night Mins  \\\n",
              "count  5000.000000  5000.000000  5000.000000  5000.000000  5000.000000   \n",
              "mean      5.018902     5.026199     3.140400     5.017557     4.000917   \n",
              "std       2.195759     2.135487     2.525621     2.127857     1.631001   \n",
              "min       0.004777     0.004659     0.000000     0.013573     0.008468   \n",
              "25%       3.470151     3.588466     1.000000     3.529613     2.921998   \n",
              "50%       4.988291     5.145656     3.000000     5.006860     3.962089   \n",
              "75%       6.559750     6.552962     5.000000     6.491725     5.100128   \n",
              "max      12.731936    13.622097    14.000000    12.352871    10.183378   \n",
              "\n",
              "       Night Calls  Night Charge    Intl Mins   Intl Calls  Intl Charge  \\\n",
              "count  5000.000000   5000.000000  5000.000000  5000.000000  5000.000000   \n",
              "mean    224.790000      5.023490     5.025876     5.475400     4.328242   \n",
              "std      97.302875      1.748900     1.019302     1.877045     2.440311   \n",
              "min       0.000000      0.054863     1.648514     0.000000     0.000769   \n",
              "25%     150.000000      3.873157     4.349726     4.000000     2.468225   \n",
              "50%     200.000000      5.169154     5.034905     5.000000     4.214058   \n",
              "75%     300.000000      6.272015     5.716386     7.000000     5.960654   \n",
              "max     550.000000     10.407778     8.405644    12.000000    14.212261   \n",
              "\n",
              "       CustServ Calls  \n",
              "count     5000.000000  \n",
              "mean         5.525800  \n",
              "std          2.041217  \n",
              "min          0.000000  \n",
              "25%          4.000000  \n",
              "50%          6.000000  \n",
              "75%          7.000000  \n",
              "max         13.000000  "
            ],
            "text/html": [
              "\n",
              "  <div id=\"df-7f1e1bc7-bc0e-49ee-983b-dc3468bcef6c\">\n",
              "    <div class=\"colab-df-container\">\n",
              "      <div>\n",
              "<style scoped>\n",
              "    .dataframe tbody tr th:only-of-type {\n",
              "        vertical-align: middle;\n",
              "    }\n",
              "\n",
              "    .dataframe tbody tr th {\n",
              "        vertical-align: top;\n",
              "    }\n",
              "\n",
              "    .dataframe thead th {\n",
              "        text-align: right;\n",
              "    }\n",
              "</style>\n",
              "<table border=\"1\" class=\"dataframe\">\n",
              "  <thead>\n",
              "    <tr style=\"text-align: right;\">\n",
              "      <th></th>\n",
              "      <th>Account Length</th>\n",
              "      <th>Area Code</th>\n",
              "      <th>VMail Message</th>\n",
              "      <th>Day Mins</th>\n",
              "      <th>Day Calls</th>\n",
              "      <th>Day Charge</th>\n",
              "      <th>Eve Mins</th>\n",
              "      <th>Eve Calls</th>\n",
              "      <th>Eve Charge</th>\n",
              "      <th>Night Mins</th>\n",
              "      <th>Night Calls</th>\n",
              "      <th>Night Charge</th>\n",
              "      <th>Intl Mins</th>\n",
              "      <th>Intl Calls</th>\n",
              "      <th>Intl Charge</th>\n",
              "      <th>CustServ Calls</th>\n",
              "    </tr>\n",
              "  </thead>\n",
              "  <tbody>\n",
              "    <tr>\n",
              "      <th>count</th>\n",
              "      <td>5000.000000</td>\n",
              "      <td>5000.000000</td>\n",
              "      <td>5000.000000</td>\n",
              "      <td>5000.000000</td>\n",
              "      <td>5000.00000</td>\n",
              "      <td>5000.000000</td>\n",
              "      <td>5000.000000</td>\n",
              "      <td>5000.000000</td>\n",
              "      <td>5000.000000</td>\n",
              "      <td>5000.000000</td>\n",
              "      <td>5000.000000</td>\n",
              "      <td>5000.000000</td>\n",
              "      <td>5000.000000</td>\n",
              "      <td>5000.000000</td>\n",
              "      <td>5000.000000</td>\n",
              "      <td>5000.000000</td>\n",
              "    </tr>\n",
              "    <tr>\n",
              "      <th>mean</th>\n",
              "      <td>101.675800</td>\n",
              "      <td>773.791400</td>\n",
              "      <td>226.680000</td>\n",
              "      <td>5.518757</td>\n",
              "      <td>3.50460</td>\n",
              "      <td>5.018902</td>\n",
              "      <td>5.026199</td>\n",
              "      <td>3.140400</td>\n",
              "      <td>5.017557</td>\n",
              "      <td>4.000917</td>\n",
              "      <td>224.790000</td>\n",
              "      <td>5.023490</td>\n",
              "      <td>5.025876</td>\n",
              "      <td>5.475400</td>\n",
              "      <td>4.328242</td>\n",
              "      <td>5.525800</td>\n",
              "    </tr>\n",
              "    <tr>\n",
              "      <th>std</th>\n",
              "      <td>57.596762</td>\n",
              "      <td>63.470888</td>\n",
              "      <td>273.998527</td>\n",
              "      <td>3.433485</td>\n",
              "      <td>1.68812</td>\n",
              "      <td>2.195759</td>\n",
              "      <td>2.135487</td>\n",
              "      <td>2.525621</td>\n",
              "      <td>2.127857</td>\n",
              "      <td>1.631001</td>\n",
              "      <td>97.302875</td>\n",
              "      <td>1.748900</td>\n",
              "      <td>1.019302</td>\n",
              "      <td>1.877045</td>\n",
              "      <td>2.440311</td>\n",
              "      <td>2.041217</td>\n",
              "    </tr>\n",
              "    <tr>\n",
              "      <th>min</th>\n",
              "      <td>1.000000</td>\n",
              "      <td>657.000000</td>\n",
              "      <td>0.000000</td>\n",
              "      <td>0.000215</td>\n",
              "      <td>0.00000</td>\n",
              "      <td>0.004777</td>\n",
              "      <td>0.004659</td>\n",
              "      <td>0.000000</td>\n",
              "      <td>0.013573</td>\n",
              "      <td>0.008468</td>\n",
              "      <td>0.000000</td>\n",
              "      <td>0.054863</td>\n",
              "      <td>1.648514</td>\n",
              "      <td>0.000000</td>\n",
              "      <td>0.000769</td>\n",
              "      <td>0.000000</td>\n",
              "    </tr>\n",
              "    <tr>\n",
              "      <th>25%</th>\n",
              "      <td>52.000000</td>\n",
              "      <td>736.000000</td>\n",
              "      <td>0.000000</td>\n",
              "      <td>2.682384</td>\n",
              "      <td>2.00000</td>\n",
              "      <td>3.470151</td>\n",
              "      <td>3.588466</td>\n",
              "      <td>1.000000</td>\n",
              "      <td>3.529613</td>\n",
              "      <td>2.921998</td>\n",
              "      <td>150.000000</td>\n",
              "      <td>3.873157</td>\n",
              "      <td>4.349726</td>\n",
              "      <td>4.000000</td>\n",
              "      <td>2.468225</td>\n",
              "      <td>4.000000</td>\n",
              "    </tr>\n",
              "    <tr>\n",
              "      <th>50%</th>\n",
              "      <td>102.000000</td>\n",
              "      <td>778.000000</td>\n",
              "      <td>0.000000</td>\n",
              "      <td>5.336245</td>\n",
              "      <td>3.00000</td>\n",
              "      <td>4.988291</td>\n",
              "      <td>5.145656</td>\n",
              "      <td>3.000000</td>\n",
              "      <td>5.006860</td>\n",
              "      <td>3.962089</td>\n",
              "      <td>200.000000</td>\n",
              "      <td>5.169154</td>\n",
              "      <td>5.034905</td>\n",
              "      <td>5.000000</td>\n",
              "      <td>4.214058</td>\n",
              "      <td>6.000000</td>\n",
              "    </tr>\n",
              "    <tr>\n",
              "      <th>75%</th>\n",
              "      <td>151.000000</td>\n",
              "      <td>806.000000</td>\n",
              "      <td>400.000000</td>\n",
              "      <td>7.936151</td>\n",
              "      <td>5.00000</td>\n",
              "      <td>6.559750</td>\n",
              "      <td>6.552962</td>\n",
              "      <td>5.000000</td>\n",
              "      <td>6.491725</td>\n",
              "      <td>5.100128</td>\n",
              "      <td>300.000000</td>\n",
              "      <td>6.272015</td>\n",
              "      <td>5.716386</td>\n",
              "      <td>7.000000</td>\n",
              "      <td>5.960654</td>\n",
              "      <td>7.000000</td>\n",
              "    </tr>\n",
              "    <tr>\n",
              "      <th>max</th>\n",
              "      <td>200.000000</td>\n",
              "      <td>878.000000</td>\n",
              "      <td>1300.000000</td>\n",
              "      <td>16.897529</td>\n",
              "      <td>10.00000</td>\n",
              "      <td>12.731936</td>\n",
              "      <td>13.622097</td>\n",
              "      <td>14.000000</td>\n",
              "      <td>12.352871</td>\n",
              "      <td>10.183378</td>\n",
              "      <td>550.000000</td>\n",
              "      <td>10.407778</td>\n",
              "      <td>8.405644</td>\n",
              "      <td>12.000000</td>\n",
              "      <td>14.212261</td>\n",
              "      <td>13.000000</td>\n",
              "    </tr>\n",
              "  </tbody>\n",
              "</table>\n",
              "</div>\n",
              "      <button class=\"colab-df-convert\" onclick=\"convertToInteractive('df-7f1e1bc7-bc0e-49ee-983b-dc3468bcef6c')\"\n",
              "              title=\"Convert this dataframe to an interactive table.\"\n",
              "              style=\"display:none;\">\n",
              "        \n",
              "  <svg xmlns=\"http://www.w3.org/2000/svg\" height=\"24px\"viewBox=\"0 0 24 24\"\n",
              "       width=\"24px\">\n",
              "    <path d=\"M0 0h24v24H0V0z\" fill=\"none\"/>\n",
              "    <path d=\"M18.56 5.44l.94 2.06.94-2.06 2.06-.94-2.06-.94-.94-2.06-.94 2.06-2.06.94zm-11 1L8.5 8.5l.94-2.06 2.06-.94-2.06-.94L8.5 2.5l-.94 2.06-2.06.94zm10 10l.94 2.06.94-2.06 2.06-.94-2.06-.94-.94-2.06-.94 2.06-2.06.94z\"/><path d=\"M17.41 7.96l-1.37-1.37c-.4-.4-.92-.59-1.43-.59-.52 0-1.04.2-1.43.59L10.3 9.45l-7.72 7.72c-.78.78-.78 2.05 0 2.83L4 21.41c.39.39.9.59 1.41.59.51 0 1.02-.2 1.41-.59l7.78-7.78 2.81-2.81c.8-.78.8-2.07 0-2.86zM5.41 20L4 18.59l7.72-7.72 1.47 1.35L5.41 20z\"/>\n",
              "  </svg>\n",
              "      </button>\n",
              "      \n",
              "  <style>\n",
              "    .colab-df-container {\n",
              "      display:flex;\n",
              "      flex-wrap:wrap;\n",
              "      gap: 12px;\n",
              "    }\n",
              "\n",
              "    .colab-df-convert {\n",
              "      background-color: #E8F0FE;\n",
              "      border: none;\n",
              "      border-radius: 50%;\n",
              "      cursor: pointer;\n",
              "      display: none;\n",
              "      fill: #1967D2;\n",
              "      height: 32px;\n",
              "      padding: 0 0 0 0;\n",
              "      width: 32px;\n",
              "    }\n",
              "\n",
              "    .colab-df-convert:hover {\n",
              "      background-color: #E2EBFA;\n",
              "      box-shadow: 0px 1px 2px rgba(60, 64, 67, 0.3), 0px 1px 3px 1px rgba(60, 64, 67, 0.15);\n",
              "      fill: #174EA6;\n",
              "    }\n",
              "\n",
              "    [theme=dark] .colab-df-convert {\n",
              "      background-color: #3B4455;\n",
              "      fill: #D2E3FC;\n",
              "    }\n",
              "\n",
              "    [theme=dark] .colab-df-convert:hover {\n",
              "      background-color: #434B5C;\n",
              "      box-shadow: 0px 1px 3px 1px rgba(0, 0, 0, 0.15);\n",
              "      filter: drop-shadow(0px 1px 2px rgba(0, 0, 0, 0.3));\n",
              "      fill: #FFFFFF;\n",
              "    }\n",
              "  </style>\n",
              "\n",
              "      <script>\n",
              "        const buttonEl =\n",
              "          document.querySelector('#df-7f1e1bc7-bc0e-49ee-983b-dc3468bcef6c button.colab-df-convert');\n",
              "        buttonEl.style.display =\n",
              "          google.colab.kernel.accessAllowed ? 'block' : 'none';\n",
              "\n",
              "        async function convertToInteractive(key) {\n",
              "          const element = document.querySelector('#df-7f1e1bc7-bc0e-49ee-983b-dc3468bcef6c');\n",
              "          const dataTable =\n",
              "            await google.colab.kernel.invokeFunction('convertToInteractive',\n",
              "                                                     [key], {});\n",
              "          if (!dataTable) return;\n",
              "\n",
              "          const docLinkHtml = 'Like what you see? Visit the ' +\n",
              "            '<a target=\"_blank\" href=https://colab.research.google.com/notebooks/data_table.ipynb>data table notebook</a>'\n",
              "            + ' to learn more about interactive tables.';\n",
              "          element.innerHTML = '';\n",
              "          dataTable['output_type'] = 'display_data';\n",
              "          await google.colab.output.renderOutput(dataTable, element);\n",
              "          const docLink = document.createElement('div');\n",
              "          docLink.innerHTML = docLinkHtml;\n",
              "          element.appendChild(docLink);\n",
              "        }\n",
              "      </script>\n",
              "    </div>\n",
              "  </div>\n",
              "  "
            ]
          },
          "metadata": {},
          "execution_count": 5
        }
      ]
    },
    {
      "cell_type": "markdown",
      "source": [
        "Limpieza de datos"
      ],
      "metadata": {
        "id": "LT-RYl9eXpBB"
      }
    },
    {
      "cell_type": "code",
      "source": [
        "df_churn.isna().sum()"
      ],
      "metadata": {
        "colab": {
          "base_uri": "https://localhost:8080/"
        },
        "id": "3PFMK_Esh2yx",
        "outputId": "f6c691e2-7284-4283-9d33-4e69e3e7d46e"
      },
      "execution_count": 6,
      "outputs": [
        {
          "output_type": "execute_result",
          "data": {
            "text/plain": [
              "State             0\n",
              "Account Length    0\n",
              "Area Code         0\n",
              "Phone             0\n",
              "Int'l Plan        0\n",
              "VMail Plan        0\n",
              "VMail Message     0\n",
              "Day Mins          0\n",
              "Day Calls         0\n",
              "Day Charge        0\n",
              "Eve Mins          0\n",
              "Eve Calls         0\n",
              "Eve Charge        0\n",
              "Night Mins        0\n",
              "Night Calls       0\n",
              "Night Charge      0\n",
              "Intl Mins         0\n",
              "Intl Calls        0\n",
              "Intl Charge       0\n",
              "CustServ Calls    0\n",
              "Churn?            0\n",
              "dtype: int64"
            ]
          },
          "metadata": {},
          "execution_count": 6
        }
      ]
    },
    {
      "cell_type": "code",
      "source": [
        "df_churn.drop(columns=[\"State\",\"Phone\",\"Int'l Plan\",\"VMail Plan\",\"Area Code\"], inplace=True)"
      ],
      "metadata": {
        "id": "-KRK8YRJafeK"
      },
      "execution_count": 7,
      "outputs": []
    },
    {
      "cell_type": "markdown",
      "source": [
        "Selección de variables"
      ],
      "metadata": {
        "id": "3P5weQF_XpDx"
      }
    },
    {
      "cell_type": "code",
      "source": [
        "df_churn['Churn?'].value_counts()"
      ],
      "metadata": {
        "colab": {
          "base_uri": "https://localhost:8080/"
        },
        "id": "mF85iEZ3hi6y",
        "outputId": "4dde360b-e8e0-4ad4-f21f-6ea02a3a602c"
      },
      "execution_count": 8,
      "outputs": [
        {
          "output_type": "execute_result",
          "data": {
            "text/plain": [
              "False.    2502\n",
              "True.     2498\n",
              "Name: Churn?, dtype: int64"
            ]
          },
          "metadata": {},
          "execution_count": 8
        }
      ]
    },
    {
      "cell_type": "code",
      "source": [
        "df_churn['Churn?'].value_counts(normalize=True)"
      ],
      "metadata": {
        "colab": {
          "base_uri": "https://localhost:8080/"
        },
        "id": "WVaVPZxNk5IE",
        "outputId": "64805e54-f0b1-4997-ad39-956428c4dcbb"
      },
      "execution_count": 9,
      "outputs": [
        {
          "output_type": "execute_result",
          "data": {
            "text/plain": [
              "False.    0.5004\n",
              "True.     0.4996\n",
              "Name: Churn?, dtype: float64"
            ]
          },
          "metadata": {},
          "execution_count": 9
        }
      ]
    },
    {
      "cell_type": "code",
      "source": [
        "sns.countplot(data=df_churn,x='Churn?')"
      ],
      "metadata": {
        "colab": {
          "base_uri": "https://localhost:8080/",
          "height": 303
        },
        "id": "_NBJ2qQKhpaw",
        "outputId": "cbca6d4f-c6b4-47c9-c835-294e7295cc22"
      },
      "execution_count": 10,
      "outputs": [
        {
          "output_type": "execute_result",
          "data": {
            "text/plain": [
              "<matplotlib.axes._subplots.AxesSubplot at 0x7fdd20ff0250>"
            ]
          },
          "metadata": {},
          "execution_count": 10
        },
        {
          "output_type": "display_data",
          "data": {
            "text/plain": [
              "<Figure size 432x288 with 1 Axes>"
            ],
            "image/png": "[encoded data removed]"
          },
          "metadata": {}
        }
      ]
    },
    {
      "cell_type": "markdown",
      "source": [
        "#Separación de datos y Normalización"
      ],
      "metadata": {
        "id": "-FY8o4_YyyMU"
      }
    },
    {
      "cell_type": "code",
      "source": [
        "#size = int(len(df_churn)*0.8)\n",
        "#size2 = int(size*0.7)\n",
        "#size3 = int(size*0.3)\n",
        "#size4 = int(len(df_churn)*0.2)"
      ],
      "metadata": {
        "id": "sV4JKG4oP3z3"
      },
      "execution_count": 11,
      "outputs": []
    },
    {
      "cell_type": "code",
      "source": [
        "df_churn = df_churn.groupby(df_churn['Churn?'])\n",
        "df1= df_churn.get_group(\"True.\")\n",
        "df2= df_churn.get_group(\"False.\")\n",
        "#df_churn.describe()"
      ],
      "metadata": {
        "id": "9wr2c14QRVmO"
      },
      "execution_count": 12,
      "outputs": []
    },
    {
      "cell_type": "code",
      "source": [
        "train=df1.sample(frac=0.56)\n",
        "train=train.append(df2.sample(frac=0.56))\n",
        "#train"
      ],
      "metadata": {
        "id": "FAClOmFdGT9U"
      },
      "execution_count": 13,
      "outputs": []
    },
    {
      "cell_type": "code",
      "source": [
        "vald=df1.sample(frac=0.24)\n",
        "vald=vald.append(df2.sample(frac=0.24))\n",
        "#vald"
      ],
      "metadata": {
        "id": "Up2diuHydMce"
      },
      "execution_count": 14,
      "outputs": []
    },
    {
      "cell_type": "code",
      "source": [
        "test=df1.sample(frac=0.20)\n",
        "test=test.append(df2.sample(frac=0.20))\n",
        "#test"
      ],
      "metadata": {
        "id": "mF_kezIZNbAY"
      },
      "execution_count": 15,
      "outputs": []
    },
    {
      "cell_type": "code",
      "source": [
        "X_train = train.drop('Churn?', axis=1)\n",
        "y_train = train['Churn?']\n",
        "X_vald = vald.drop('Churn?', axis=1)\n",
        "y_vald = vald['Churn?']\n",
        "X_test = test.drop('Churn?', axis=1)\n",
        "y_test = test['Churn?']\n",
        "\n",
        "\n",
        "def mean_norm(df_input):\n",
        "    return df_input.apply(lambda x: (x-x.mean())/ x.std(), axis=0)\n",
        "\n",
        "X_train = mean_norm(X_train)\n",
        "X_vald = mean_norm(X_vald)\n",
        "X_test = mean_norm(X_test)\n",
        "#print(X_train)\n",
        "#print(X_vald)\n",
        "#print(X_test)"
      ],
      "metadata": {
        "id": "RtG67tDkh2vs"
      },
      "execution_count": 22,
      "outputs": []
    },
    {
      "cell_type": "markdown",
      "source": [
        "#Implementación de Modelo  \n",
        "\n",
        "##*Regresion Logística*"
      ],
      "metadata": {
        "id": "kLKw5MYmXpGm"
      }
    },
    {
      "cell_type": "code",
      "source": [
        "from sklearn.linear_model import LogisticRegression"
      ],
      "metadata": {
        "id": "jz-nYrWWY9Jj"
      },
      "execution_count": 19,
      "outputs": []
    },
    {
      "cell_type": "code",
      "source": [
        "#help(LogisticRegression)"
      ],
      "metadata": {
        "id": "AJspQ4xCY9G1"
      },
      "execution_count": 18,
      "outputs": []
    },
    {
      "cell_type": "code",
      "source": [
        "log_model = LogisticRegression()"
      ],
      "metadata": {
        "id": "5Tw0H8lxY9ES"
      },
      "execution_count": 20,
      "outputs": []
    },
    {
      "cell_type": "code",
      "source": [
        "log_model.fit(X_train,y_train)"
      ],
      "metadata": {
        "colab": {
          "base_uri": "https://localhost:8080/"
        },
        "id": "lLJCBitNY83r",
        "outputId": "24575a8c-d775-46d3-e0d9-ea00460ec8b4"
      },
      "execution_count": 21,
      "outputs": [
        {
          "output_type": "execute_result",
          "data": {
            "text/plain": [
              "LogisticRegression()"
            ]
          },
          "metadata": {},
          "execution_count": 21
        }
      ]
    },
    {
      "cell_type": "markdown",
      "source": [
        "Entrenar modelo\n"
      ],
      "metadata": {
        "id": "T3aA5aHRXpKH"
      }
    },
    {
      "cell_type": "code",
      "source": [
        "log_model.coef_"
      ],
      "metadata": {
        "colab": {
          "base_uri": "https://localhost:8080/"
        },
        "id": "dPzybQgIeHBu",
        "outputId": "77c55b9f-82de-4226-9113-3baaf69dd477"
      },
      "execution_count": 21,
      "outputs": [
        {
          "output_type": "execute_result",
          "data": {
            "text/plain": [
              "array([[ 1.51410173e-03, -4.53021924e-04,  1.35453982e-01,\n",
              "        -5.45941744e-02,  2.47807513e-01,  7.90626926e-01,\n",
              "        -1.22519425e-01, -1.50443788e-01, -2.40586448e-01,\n",
              "        -2.31080582e-02,  3.86413632e-01, -5.49419099e-02,\n",
              "        -4.01590977e-02, -1.24644213e-01,  6.22159366e-02]])"
            ]
          },
          "metadata": {},
          "execution_count": 21
        }
      ]
    },
    {
      "cell_type": "markdown",
      "source": [
        "validar modelo"
      ],
      "metadata": {
        "id": "Pa_VMxnCXpY1"
      }
    },
    {
      "cell_type": "code",
      "source": [
        "from sklearn.metrics import f1_score"
      ],
      "metadata": {
        "id": "ZSHG3_5OeG3t"
      },
      "execution_count": 22,
      "outputs": []
    },
    {
      "cell_type": "code",
      "source": [],
      "metadata": {
        "id": "XO9Wtil-zlND"
      },
      "execution_count": 22,
      "outputs": []
    },
    {
      "cell_type": "code",
      "source": [],
      "metadata": {
        "id": "D24yd0bm6rE2"
      },
      "execution_count": null,
      "outputs": []
    },
    {
      "cell_type": "code",
      "source": [
        "fig = plt.figure(figsize=(14,14))\n",
        "x_datos, y_datos = (datos['Churn?'].values, datos['Churn?'].values)"
      ],
      "metadata": {
        "id": "sx9ZyZR86rBy"
      },
      "execution_count": null,
      "outputs": []
    },
    {
      "cell_type": "code",
      "source": [],
      "metadata": {
        "id": "uWnWEy356q5o"
      },
      "execution_count": null,
      "outputs": []
    },
    {
      "cell_type": "code",
      "source": [],
      "metadata": {
        "id": "eROeDzyX6qwS"
      },
      "execution_count": null,
      "outputs": []
    },
    {
      "cell_type": "markdown",
      "source": [
        "Gráficar (validación)"
      ],
      "metadata": {
        "id": "ar2Nmp7qXpbV"
      }
    },
    {
      "cell_type": "markdown",
      "source": [
        "Selección de dataframe para predicción"
      ],
      "metadata": {
        "id": "kG7l7eM2fk5M"
      }
    },
    {
      "cell_type": "markdown",
      "source": [
        "Ejecutar predicciones"
      ],
      "metadata": {
        "id": "Xre5U75tXpey"
      }
    }
  ]
}