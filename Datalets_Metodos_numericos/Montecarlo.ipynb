{
 "cells": [
  {
   "cell_type": "code",
   "execution_count": 7,
   "id": "07fd5e9e",
   "metadata": {},
   "outputs": [],
   "source": [
    "import pandas as pd\n",
    "import numpy as np\n",
    "import matplotlib.pyplot as plt"
   ]
  },
  {
   "cell_type": "markdown",
   "id": "4182aced",
   "metadata": {},
   "source": [
    "# Movimiento Browniano Geométrico\n",
    "\n",
    "Usaremos la siguiente ecuación diferencial estocástica llamada **Movimiento Browniano Geométrico**, el cuál tiene incrementenos independientes, los cuales son vairables aleatorias con una distribución normal.\n",
    "\n",
    "$ dX(t) = \\alpha X(t) dt + \\sigma X(t) dW(t) $\n",
    "\n",
    "donde:\n",
    "\n",
    "$ dW(t) = \\sqrt{dt} X(t) $"
   ]
  },
  {
   "cell_type": "markdown",
   "id": "edd21555",
   "metadata": {},
   "source": [
    "# Método Montecarlo\n",
    "\n",
    "El **;étodo Montecarlo** es una técnica inventada por **Stanislaw Ulam** en 1940. Consiste en un generador de números aleatorios usando una distribución de probabilidad.\n",
    "\n",
    "Se debe emplear un número de repeticiones elevado para evitar la incertidumbre probabilística.\n",
    "\n",
    "Dicho método de simulación se emplea en varias **Ecuaciones Diferenciales Estocásticas** (EDS) para la aproximación de su resultado.\n",
    "\n",
    "Dada una cantidad $ t $ de variables aleatorias $ X(t) $ con distribución de probabilidad $ U \\sim N(0,1) $.\n",
    "\n",
    "Donde a nuestras $ X_t $ les aplicaremos la **función de distribución acumulada inversa** $ F_x^{-1} $.\n",
    "\n",
    "A este procedimiento se le llama **método de transformación inversa**.\n",
    "\n",
    "Posterior a ello, evaluaremos nuestras $ X_t $ en nuestra $ g(x) $ obtiendo así nuestros valores $ g_t $.\n",
    "\n",
    "Una vez con ellos, podremos obtener la $ \\hat{E}(g(x)) $, la cuál nos dirá la aproximación de la solución de esa EDS.\n",
    "\n",
    "$ \\hat{E}(g(x)) = \\frac{g_1 + g_2 + ... + g_t}{t} $"
   ]
  },
  {
   "cell_type": "markdown",
   "id": "444a6358",
   "metadata": {},
   "source": [
    "# Empleo del algoritmo\n",
    "\n",
    "Con un valor inicial de $ X(0) = x_0 $\n",
    "\n",
    "Y la aplicación del **lemma de Ito** para $ F(x) = \\log(X) $\n",
    "\n",
    "Se genera la siguiente solución:\n",
    "\n",
    "$ X(t) = e^{(\\log(X_0) + \\mu dt + \\sigma W(t))} = X_0 e^{(\\mu dt + \\sigma dW(t))} $\n",
    "\n",
    "donde:\n",
    "\n",
    "$\\mu = \\alpha - \\frac{1}{2} \\sigma^2 $"
   ]
  },
  {
   "cell_type": "code",
   "execution_count": 130,
   "id": "01b471e9",
   "metadata": {},
   "outputs": [],
   "source": [
    "def monte_carlo(alpha, sigma, delta, tiempo):\n",
    "    x0 = 1\n",
    "    \n",
    "    simulaciones = np.random.normal(size=tiempo)\n",
    "    mu = alpha - 0.5*(sigma**2)\n",
    "    deltaXT = mu*delta + sigma*(delta**0.5) * simulaciones\n",
    "\n",
    "    xT = x0*np.cumprod(np.exp(deltaXT), axis=0)\n",
    "    xT = np.array(xT)\n",
    "    \n",
    "    monteCarlo = xT.sum() / tiempo\n",
    "    return monteCarlo"
   ]
  },
  {
   "cell_type": "code",
   "execution_count": 217,
   "id": "3bbba1fa",
   "metadata": {},
   "outputs": [
    {
     "data": {
      "text/plain": [
       "7.020784131095536e+181"
      ]
     },
     "execution_count": 217,
     "metadata": {},
     "output_type": "execute_result"
    }
   ],
   "source": [
    "mbg = monte_carlo(1, 1, 1, 1000)\n",
    "mbg"
   ]
  },
  {
   "cell_type": "code",
   "execution_count": null,
   "id": "aec287ba",
   "metadata": {},
   "outputs": [],
   "source": []
  }
 ],
 "metadata": {
  "kernelspec": {
   "display_name": "Python 3",
   "language": "python",
   "name": "python3"
  },
  "language_info": {
   "codemirror_mode": {
    "name": "ipython",
    "version": 3
   },
   "file_extension": ".py",
   "mimetype": "text/x-python",
   "name": "python",
   "nbconvert_exporter": "python",
   "pygments_lexer": "ipython3",
   "version": "3.8.8"
  }
 },
 "nbformat": 4,
 "nbformat_minor": 5
}
