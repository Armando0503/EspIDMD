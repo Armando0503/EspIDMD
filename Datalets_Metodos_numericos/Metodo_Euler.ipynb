{
  "nbformat": 4,
  "nbformat_minor": 0,
  "metadata": {
    "colab": {
      "provenance": [],
      "collapsed_sections": []
    },
    "kernelspec": {
      "name": "python3",
      "display_name": "Python 3"
    },
    "language_info": {
      "name": "python"
    }
  },
  "cells": [
    {
      "cell_type": "markdown",
      "source": [
        "**Resolución de una ecuacion diferencial de primer orden usando metodo de Euler**"
      ],
      "metadata": {
        "id": "DN1xKEPDdRTU"
      }
    },
    {
      "cell_type": "markdown",
      "source": [
        "Considerando la ecuación diferencial  dy/dx = (x + y + xy)  con condición inicial y(0) = 1   y h = 0.025.  Encontrar y(0.1).\n",
        "\n",
        "   Solución:  f(x, y) = (x + y + xy)\n",
        "\n",
        "   x0 = 0, y0 = 1, h = 0.025\n",
        "\n",
        "    *Calcular y1 usando la fórmula de Euler*\n",
        "\n",
        "\n",
        "    y1 = y0 + h * f(x0, y0)\n",
        "\n",
        "    y1 = 1 + 0.025 *(0 + 1 + 0 * 1)\n",
        "\n",
        "    y1 = 1.025\n",
        "\n",
        "    y(0.025) = 1.025.\n",
        "\n",
        "    y(0.1) = 1.11167"
      ],
      "metadata": {
        "id": "s72rgLmwvxB4"
      }
    },
    {
      "cell_type": "code",
      "source": [
        "# Método de Euler considerando la ecuación diferencial\n",
        "# dy / dx =(x + y + xy)\n",
        "def func( x, y ):\n",
        "    return (x + y + x * y)\n",
        "    \n",
        "# Función para la fórmula de Euler\n",
        "def euler( x0, y, h, x ):\n",
        "    temp = -0\n",
        " \n",
        "# Iterando hasta el punto en el que necesitamos la aproximación\n",
        "    while x0 < x:\n",
        "        temp = y\n",
        "        y = y + h * func(x0, y)\n",
        "        x0 = x0 + h\n",
        " \n",
        "# Imprimiendo aproximación\n",
        "    print(\"Solución aproximada en  = \", x, \" es \", \"%.7f\"% y)\n",
        "     \n",
        "# Valores iniciales\n",
        "x0 = 0\n",
        "y0 = 1\n",
        "h = 0.025\n",
        " \n",
        "# Valor de x en el que necesitamos aproximacion\n",
        "x = 0.1\n",
        " \n",
        "euler(x0, y0, h, x)"
      ],
      "metadata": {
        "colab": {
          "base_uri": "https://localhost:8080/"
        },
        "id": "NsQh55Cfe99J",
        "outputId": "fee1fb82-64a9-4575-8204-dc9bed06f8a6"
      },
      "execution_count": 28,
      "outputs": [
        {
          "output_type": "stream",
          "name": "stdout",
          "text": [
            "Solución aproximada en  =  0.1  es  1.1116730\n"
          ]
        }
      ]
    }
  ]
}